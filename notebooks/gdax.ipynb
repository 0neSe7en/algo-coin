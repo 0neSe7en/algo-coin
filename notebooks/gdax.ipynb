{
 "cells": [
  {
   "cell_type": "code",
   "execution_count": 1,
   "metadata": {},
   "outputs": [],
   "source": [
    "import os\n",
    "import gdax"
   ]
  },
  {
   "cell_type": "code",
   "execution_count": 2,
   "metadata": {},
   "outputs": [],
   "source": [
    "key = os.environ['GDAX_SANDBOX_API_KEY']\n",
    "b64secret = os.environ['GDAX_SANDBOX_API_SECRET']\n",
    "passphrase = os.environ['GDAX_SANDBOX_API_PASS']"
   ]
  },
  {
   "cell_type": "code",
   "execution_count": 3,
   "metadata": {},
   "outputs": [],
   "source": [
    "cl = gdax.AuthenticatedClient(key, b64secret, passphrase, api_url=\"https://api-public.sandbox.gdax.com\")"
   ]
  },
  {
   "cell_type": "code",
   "execution_count": 4,
   "metadata": {},
   "outputs": [
    {
     "name": "stdout",
     "output_type": "stream",
     "text": [
      "[{'available': '50.0000000000000000',\n",
      "  'balance': '50.0000000000000000',\n",
      "  'currency': 'BTC',\n",
      "  'hold': '0.0000000000000000',\n",
      "  'id': '645b633d-3a27-4eb5-9eac-3ed0eb853237',\n",
      "  'profile_id': '6b5d80af-6314-4dc7-8402-0bc3fd6eede1'},\n",
      " {'available': '10478.9975000000000000',\n",
      "  'balance': '10480.0000000000000000',\n",
      "  'currency': 'USD',\n",
      "  'hold': '1.0025000000000000',\n",
      "  'id': '46328121-a2fa-486c-b053-c262801e761a',\n",
      "  'profile_id': '6b5d80af-6314-4dc7-8402-0bc3fd6eede1'},\n",
      " {'available': '0.0000000000000000',\n",
      "  'balance': '0.0000000000000000',\n",
      "  'currency': 'GBP',\n",
      "  'hold': '0.0000000000000000',\n",
      "  'id': '79e141c5-e55a-4870-a2aa-c145959f895d',\n",
      "  'profile_id': '6b5d80af-6314-4dc7-8402-0bc3fd6eede1'},\n",
      " {'available': '0.0000000000000000',\n",
      "  'balance': '0.0000000000000000',\n",
      "  'currency': 'EUR',\n",
      "  'hold': '0.0000000000000000',\n",
      "  'id': '973b6e17-a809-4427-8263-c19e94c2737e',\n",
      "  'profile_id': '6b5d80af-6314-4dc7-8402-0bc3fd6eede1'},\n",
      " {'available': '0.0000000000000000',\n",
      "  'balance': '0.0000000000000000',\n",
      "  'currency': 'CAD',\n",
      "  'hold': '0.0000000000000000',\n",
      "  'id': '94fbb77a-3c46-41df-bfb6-79cf73c6b49c',\n",
      "  'profile_id': '6b5d80af-6314-4dc7-8402-0bc3fd6eede1'}]\n"
     ]
    }
   ],
   "source": [
    "import pprint\n",
    "pprint.pprint(cl.get_accounts())"
   ]
  },
  {
   "cell_type": "code",
   "execution_count": 10,
   "metadata": {},
   "outputs": [
    {
     "data": {
      "text/plain": [
       "{'created_at': '2017-08-20T14:51:43.414353Z',\n",
       " 'executed_value': '0.0000000000000000',\n",
       " 'fill_fees': '0.0000000000000000',\n",
       " 'filled_size': '0.00000000',\n",
       " 'id': '411c30a3-84aa-4d82-a5c9-6c2c0f3dd2c6',\n",
       " 'post_only': False,\n",
       " 'price': '1.00000000',\n",
       " 'product_id': 'BTC-USD',\n",
       " 'settled': False,\n",
       " 'side': 'buy',\n",
       " 'size': '1.00000000',\n",
       " 'status': 'pending',\n",
       " 'stp': 'dc',\n",
       " 'time_in_force': 'GTC',\n",
       " 'type': 'limit'}"
      ]
     },
     "execution_count": 10,
     "metadata": {},
     "output_type": "execute_result"
    }
   ],
   "source": [
    "res = cl.buy(price='1.00', #USD\n",
    "             size='1', #BTC\n",
    "             product_id='BTC-USD')\n",
    "res"
   ]
  },
  {
   "cell_type": "code",
   "execution_count": 11,
   "metadata": {},
   "outputs": [
    {
     "data": {
      "text/plain": [
       "[[{'created_at': '2017-08-20T14:51:43.414353Z',\n",
       "   'executed_value': '0.0000000000000000',\n",
       "   'fill_fees': '0.0000000000000000',\n",
       "   'filled_size': '0.00000000',\n",
       "   'id': '411c30a3-84aa-4d82-a5c9-6c2c0f3dd2c6',\n",
       "   'post_only': False,\n",
       "   'price': '1.00000000',\n",
       "   'product_id': 'BTC-USD',\n",
       "   'settled': False,\n",
       "   'side': 'buy',\n",
       "   'size': '1.00000000',\n",
       "   'status': 'open',\n",
       "   'stp': 'dc',\n",
       "   'time_in_force': 'GTC',\n",
       "   'type': 'limit'}]]"
      ]
     },
     "execution_count": 11,
     "metadata": {},
     "output_type": "execute_result"
    }
   ],
   "source": [
    "cl.get_orders()\n",
    "# cl.cancel_all(product='BTC-USD')"
   ]
  },
  {
   "cell_type": "code",
   "execution_count": 15,
   "metadata": {},
   "outputs": [
    {
     "data": {
      "text/plain": [
       "{'created_at': '2017-08-20T14:54:58.892312Z',\n",
       " 'executed_value': '0.0000000000000000',\n",
       " 'fill_fees': '0.0000000000000000',\n",
       " 'filled_size': '0.00000000',\n",
       " 'id': '6b7d5848-dc0d-40f1-847e-40a543d00ee5',\n",
       " 'post_only': False,\n",
       " 'price': '4000.00000000',\n",
       " 'product_id': 'BTC-USD',\n",
       " 'settled': False,\n",
       " 'side': 'buy',\n",
       " 'size': '1.00000000',\n",
       " 'status': 'pending',\n",
       " 'stp': 'dc',\n",
       " 'time_in_force': 'GTC',\n",
       " 'type': 'limit'}"
      ]
     },
     "execution_count": 15,
     "metadata": {},
     "output_type": "execute_result"
    }
   ],
   "source": [
    "res2 = cl.buy(price='4000.00', #USD\n",
    "             size='1', #BTC\n",
    "             product_id='BTC-USD')\n",
    "res2"
   ]
  },
  {
   "cell_type": "code",
   "execution_count": 16,
   "metadata": {},
   "outputs": [
    {
     "data": {
      "text/plain": [
       "[[{'created_at': '2017-08-20T14:54:58.916Z',\n",
       "   'fee': '10.0000000000000000',\n",
       "   'liquidity': 'T',\n",
       "   'order_id': '6b7d5848-dc0d-40f1-847e-40a543d00ee5',\n",
       "   'price': '4000.00000000',\n",
       "   'product_id': 'BTC-USD',\n",
       "   'profile_id': '6b5d80af-6314-4dc7-8402-0bc3fd6eede1',\n",
       "   'settled': True,\n",
       "   'side': 'buy',\n",
       "   'size': '1.00000000',\n",
       "   'trade_id': 18,\n",
       "   'user_id': '54c67a4b923b4fb64d00019e'}]]"
      ]
     },
     "execution_count": 16,
     "metadata": {},
     "output_type": "execute_result"
    }
   ],
   "source": [
    "cl.get_fills(order_id=res2['id'])"
   ]
  },
  {
   "cell_type": "code",
   "execution_count": null,
   "metadata": {},
   "outputs": [],
   "source": []
  }
 ],
 "metadata": {
  "kernelspec": {
   "display_name": "Python 3",
   "language": "python",
   "name": "python3"
  },
  "language_info": {
   "codemirror_mode": {
    "name": "ipython",
    "version": 3
   },
   "file_extension": ".py",
   "mimetype": "text/x-python",
   "name": "python",
   "nbconvert_exporter": "python",
   "pygments_lexer": "ipython3",
   "version": "3.6.2"
  }
 },
 "nbformat": 4,
 "nbformat_minor": 2
}
