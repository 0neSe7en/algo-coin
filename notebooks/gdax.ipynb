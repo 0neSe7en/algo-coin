{
 "cells": [
  {
   "cell_type": "code",
   "execution_count": 1,
   "metadata": {},
   "outputs": [],
   "source": [
    "import os\n",
    "import gdax"
   ]
  },
  {
   "cell_type": "code",
   "execution_count": 2,
   "metadata": {},
   "outputs": [],
   "source": [
    "key = os.environ['GDAX_SANDBOX_API_KEY']\n",
    "b64secret = os.environ['GDAX_SANDBOX_API_SECRET']\n",
    "passphrase = os.environ['GDAX_SANDBOX_API_PASS']"
   ]
  },
  {
   "cell_type": "code",
   "execution_count": 3,
   "metadata": {},
   "outputs": [],
   "source": [
    "cl = gdax.AuthenticatedClient(key, b64secret, passphrase, api_url=\"https://api-public.sandbox.gdax.com\")"
   ]
  },
  {
   "cell_type": "code",
   "execution_count": 4,
   "metadata": {},
   "outputs": [
    {
     "name": "stdout",
     "output_type": "stream",
     "text": [
      "[{'available': '50.0000000000000000',\n",
      "  'balance': '50.0000000000000000',\n",
      "  'currency': 'BTC',\n",
      "  'hold': '0.0000000000000000',\n",
      "  'id': '645b633d-3a27-4eb5-9eac-3ed0eb853237',\n",
      "  'profile_id': '6b5d80af-6314-4dc7-8402-0bc3fd6eede1'},\n",
      " {'available': '10478.9975000000000000',\n",
      "  'balance': '10480.0000000000000000',\n",
      "  'currency': 'USD',\n",
      "  'hold': '1.0025000000000000',\n",
      "  'id': '46328121-a2fa-486c-b053-c262801e761a',\n",
      "  'profile_id': '6b5d80af-6314-4dc7-8402-0bc3fd6eede1'},\n",
      " {'available': '0.0000000000000000',\n",
      "  'balance': '0.0000000000000000',\n",
      "  'currency': 'GBP',\n",
      "  'hold': '0.0000000000000000',\n",
      "  'id': '79e141c5-e55a-4870-a2aa-c145959f895d',\n",
      "  'profile_id': '6b5d80af-6314-4dc7-8402-0bc3fd6eede1'},\n",
      " {'available': '0.0000000000000000',\n",
      "  'balance': '0.0000000000000000',\n",
      "  'currency': 'EUR',\n",
      "  'hold': '0.0000000000000000',\n",
      "  'id': '973b6e17-a809-4427-8263-c19e94c2737e',\n",
      "  'profile_id': '6b5d80af-6314-4dc7-8402-0bc3fd6eede1'},\n",
      " {'available': '0.0000000000000000',\n",
      "  'balance': '0.0000000000000000',\n",
      "  'currency': 'CAD',\n",
      "  'hold': '0.0000000000000000',\n",
      "  'id': '94fbb77a-3c46-41df-bfb6-79cf73c6b49c',\n",
      "  'profile_id': '6b5d80af-6314-4dc7-8402-0bc3fd6eede1'}]\n"
     ]
    }
   ],
   "source": [
    "import pprint\n",
    "pprint.pprint(cl.get_accounts())"
   ]
  },
  {
   "cell_type": "code",
   "execution_count": null,
   "metadata": {},
   "outputs": [],
   "source": []
  }
 ],
 "metadata": {
  "kernelspec": {
   "display_name": "Python 3",
   "language": "python",
   "name": "python3"
  },
  "language_info": {
   "codemirror_mode": {
    "name": "ipython",
    "version": 3
   },
   "file_extension": ".py",
   "mimetype": "text/x-python",
   "name": "python",
   "nbconvert_exporter": "python",
   "pygments_lexer": "ipython3",
   "version": "3.6.2"
  }
 },
 "nbformat": 4,
 "nbformat_minor": 2
}
